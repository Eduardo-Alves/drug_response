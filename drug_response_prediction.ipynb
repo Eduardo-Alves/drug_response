{
 "cells": [
  {
   "cell_type": "code",
   "execution_count": 2,
   "metadata": {},
   "outputs": [],
   "source": [
    "import pandas as pd"
   ]
  },
  {
   "cell_type": "code",
   "execution_count": 30,
   "metadata": {},
   "outputs": [],
   "source": [
    "# EMTAB37=pd.read_table(\"EMTAB37rma.csv\", sep='\\t').set_index('Unnamed: 0',drop=True)\n",
    "# probes=pd.read_table(\"EMTAB37probes.csv\", sep=',')\n",
    "# probes=probes.dropna(subset=['SYMBOL'])\n",
    "# EMTAB37_gene=pd.merge(EMTAB37,probes, how='inner', left_index=True, right_on='PROBEID').set_index('SYMBOL',drop=True)\n",
    "# EMTAB37_gene=EMTAB37_gene.T.rename_axis(None).drop(['PROBEID','GENENAME'])\n",
    "# EMTAB37_sdrf=pd.read_table(\"EMTAB37.sdrf.txt\", sep='\\t')\n",
    "# EMTAB37_sdrf=EMTAB37_sdrf[['Factor Value[CELLLINE]','Array Data File']]  \n",
    "# EMTAB37_gene=pd.merge(EMTAB37_gene,EMTAB37_sdrf,left_index=True, right_on='Array Data File').set_index('Factor Value[CELLLINE]',drop=True)\n"
   ]
  },
  {
   "cell_type": "code",
   "execution_count": 32,
   "metadata": {},
   "outputs": [
    {
     "name": "stderr",
     "output_type": "stream",
     "text": [
      "/Users/wh_admin/miniconda3/lib/python3.5/site-packages/ipykernel_launcher.py:5: UserWarning: Boolean Series key will be reindexed to match DataFrame index.\n",
      "  \"\"\"\n"
     ]
    }
   ],
   "source": [
    "# import eurofins drug sensitivity data filter to contain only erlotinib fit with sigmoid\n",
    "# the actarea for other cells was calculated with constant or linear and skews the data towards non-respondents\n",
    "# 211 cell lines selected of which 120 have active area < 1\n",
    "sensitivity=pd.read_table(\"NIHMS361223-drug-sensitivity.csv\", sep=\",\")\n",
    "erlotinib_sig = sensitivity[sensitivity['Compound']=='Erlotinib'][sensitivity['FitType']=='Sigmoid']\n",
    "erlotinib_sig['CCLE_clean'] = [w.split('_',1)[0] for w in erlotinib_sig['﻿CCLE Cell Line Name']]\n",
    "erlotinib = erlotinib_sig[['CCLE_clean', 'ActArea']]\n"
   ]
  },
  {
   "cell_type": "code",
   "execution_count": 9,
   "metadata": {},
   "outputs": [
    {
     "data": {
      "text/plain": [
       "(131, 19200)"
      ]
     },
     "execution_count": 9,
     "metadata": {},
     "output_type": "execute_result"
    }
   ],
   "source": [
    "# import test data from BATTLE lung cancer drug trials\n",
    "# EGEOD-31437rma.csv constains the rma normalized probe intensities using affy package\n",
    "# hugene10.csv containst the mapping between probes and genes\n",
    "# E-GEOD-31437.sdrf.txt contains the mapping between samples and cell names\n",
    "battle_test=pd.read_csv(\"EGEOD-31437rma.csv\").set_index(\"Probe\",drop=True)\n",
    "hugogene10=pd.read_table(\"hugene10.csv\", sep=',').dropna(subset=['Symbol'])\n",
    "battle_test_gene=pd.merge(battle_test,hugogene10, how='inner', left_index=True, right_on='ID').set_index('Symbol',drop=True)\n",
    "battle_test_gene=battle_test_gene.T.rename_axis(None).drop(['Unnamed: 0','ID','Entrez', 'Name'])\n",
    "battle_test_gene=battle_test_gene.loc[:,~battle_test_gene.columns.duplicated()]\n",
    "battle_test_sdrf=pd.read_table(\"E-GEOD-31437.sdrf.txt\", sep='\\t')\n",
    "battle_test_sdrf=battle_test_sdrf.set_index(battle_test_sdrf[\"Array Data File\"].replace('.CEL','',regex=True),drop=True)\n",
    "battle_test_gene=pd.merge(battle_test_gene,battle_test_sdrf,left_index=True, right_index=True)\n",
    "battle_test_gene.shape"
   ]
  },
  {
   "cell_type": "code",
   "execution_count": 59,
   "metadata": {},
   "outputs": [
    {
     "data": {
      "image/png": "[encoded data removed]",
      "text/plain": [
       "<Figure size 432x288 with 1 Axes>"
      ]
     },
     "metadata": {},
     "output_type": "display_data"
    }
   ],
   "source": [
    "\n",
    "# merge expression and erlotinib\n",
    "# EMTAB37_gene_inter=pd.merge(EMTAB37_gene,erlotinib, how='inner', left_index=True, right_on='CCLE_clean').drop_duplicates(subset='CCLE_clean').set_index('CCLE_clean',drop=True)\n",
    "# compressed and saved intermediate result as raw file could not be uploaded\n",
    "# EMTAB37_gene_inter.to_csv(\"EMTAB37_inter.csv\")\n",
    "\n",
    "EMTAB37_gene_inter = pd.read_csv(\"EMTAB37_inter.csv\", index_col=0)\n",
    "EMTAB37_gene_training = EMTAB37_gene_inter.iloc[:,:-14]\n",
    "EMTAB37_target = EMTAB37_gene_inter['ActArea']\n",
    "\n",
    "import matplotlib.pyplot as plt\n",
    "import seaborn as sns\n",
    "fig, ax =plt.subplots()\n",
    "EMTAB37_target.hist(ax=ax, bins=10)\n",
    "plt.show()"
   ]
  },
  {
   "cell_type": "code",
   "execution_count": 60,
   "metadata": {},
   "outputs": [
    {
     "data": {
      "text/plain": [
       "(65, 175)"
      ]
     },
     "execution_count": 60,
     "metadata": {},
     "output_type": "execute_result"
    }
   ],
   "source": [
    "from sklearn.feature_selection import SelectPercentile, f_regression\n",
    "selector = SelectPercentile(f_regression, percentile=10)\n",
    "selector.fit(EMTAB37_gene_training,EMTAB37_target)\n",
    "high_corr_EMTAB37=EMTAB37_gene_training.iloc[:,selector.pvalues_<0.001]\n",
    "high_corr_EMTAB37.shape"
   ]
  },
  {
   "cell_type": "code",
   "execution_count": 66,
   "metadata": {},
   "outputs": [],
   "source": [
    "# in the papaer a binary classifier was used with arbitrary thresholds\n",
    "# ideally use regression to predict a continuous ActArea and then calculate R2 between act area and PFS\n",
    "# reduce feature using SelectFromModel using ElasticNetCV\n",
    "from sklearn.feature_selection import SelectFromModel\n",
    "from sklearn.linear_model import ElasticNetCV\n",
    "from sklearn.model_selection import KFold\n",
    "\n",
    "model = ElasticNetCV(cv=KFold(n_splits=5, shuffle=True, random_state=0),random_state=0, max_iter=2000)\n",
    "params = SelectFromModel(model).fit(high_corr_EMTAB37,EMTAB37_target)\n",
    "selected_EMTAB37 = pd.DataFrame(params.transform(high_corr_EMTAB37),columns=high_corr_EMTAB37.columns[params.get_support()])\n",
    "selected_EMTAB37.columns\n",
    "selected_EMTAB37=selected_EMTAB37.loc[:,~selected_EMTAB37.columns.duplicated()]\n",
    "selected_EMTAB37= selected_EMTAB37[selected_EMTAB37.columns & battle_test_gene.columns]\n"
   ]
  },
  {
   "cell_type": "code",
   "execution_count": 67,
   "metadata": {},
   "outputs": [
    {
     "data": {
      "text/plain": [
       "0.7203820316425775"
      ]
     },
     "execution_count": 67,
     "metadata": {},
     "output_type": "execute_result"
    }
   ],
   "source": [
    "regr = ElasticNetCV(cv=KFold(n_splits=4, shuffle=True), random_state=1, max_iter=2500)\n",
    "regr.fit(selected_EMTAB37,EMTAB37_target)\n",
    "regr.score(selected_EMTAB37,EMTAB37_target)"
   ]
  },
  {
   "cell_type": "code",
   "execution_count": 68,
   "metadata": {},
   "outputs": [
    {
     "data": {
      "text/plain": [
       "<matplotlib.collections.PathCollection at 0x131690f98>"
      ]
     },
     "execution_count": 68,
     "metadata": {},
     "output_type": "execute_result"
    },
    {
     "data": {
      "image/png": "[encoded data removed]",
      "text/plain": [
       "<Figure size 432x288 with 1 Axes>"
      ]
     },
     "metadata": {},
     "output_type": "display_data"
    }
   ],
   "source": [
    "fig, ax =plt.subplots()\n",
    "plt.scatter(regr.predict(selected_EMTAB37),EMTAB37_target)"
   ]
  },
  {
   "cell_type": "code",
   "execution_count": 69,
   "metadata": {},
   "outputs": [
    {
     "data": {
      "text/plain": [
       "<matplotlib.collections.PathCollection at 0x149c84978>"
      ]
     },
     "execution_count": 69,
     "metadata": {},
     "output_type": "execute_result"
    },
    {
     "data": {
      "image/png": "[encoded data removed]",
      "text/plain": [
       "<Figure size 432x288 with 1 Axes>"
      ]
     },
     "metadata": {},
     "output_type": "display_data"
    }
   ],
   "source": [
    "battle_test_selected=battle_test_gene[list(selected_EMTAB37.columns)][battle_test_gene['FactorValue [TREATMENT]']=='erlotinib']\n",
    "survival=battle_test_gene[battle_test_gene['FactorValue [TREATMENT]']=='erlotinib']['FactorValue [PROGRESSION-FREE SURVIVAL TIME (MONTHS)]']\n",
    "fig, ax =plt.subplots()\n",
    "plt.scatter(regr.predict(battle_test_selected),survival.astype('float'))"
   ]
  },
  {
   "cell_type": "code",
   "execution_count": null,
   "metadata": {},
   "outputs": [],
   "source": []
  }
 ],
 "metadata": {
  "kernelspec": {
   "display_name": "Python 3",
   "language": "python",
   "name": "python3"
  },
  "language_info": {
   "codemirror_mode": {
    "name": "ipython",
    "version": 3
   },
   "file_extension": ".py",
   "mimetype": "text/x-python",
   "name": "python",
   "nbconvert_exporter": "python",
   "pygments_lexer": "ipython3",
   "version": "3.5.2"
  }
 },
 "nbformat": 4,
 "nbformat_minor": 2
}
